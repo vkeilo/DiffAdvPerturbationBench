{
 "cells": [
  {
   "cell_type": "code",
   "execution_count": 1,
   "id": "ee11a2e8",
   "metadata": {},
   "outputs": [
    {
     "name": "stderr",
     "output_type": "stream",
     "text": [
      "/tmp/ipykernel_704516/2712004162.py:9: FutureWarning: You are using `torch.load` with `weights_only=False` (the current default value), which uses the default pickle module implicitly. It is possible to construct malicious pickle data which will execute arbitrary code during unpickling (See https://github.com/pytorch/pytorch/blob/main/SECURITY.md#untrusted-models for more details). In a future release, the default value for `weights_only` will be flipped to `True`. This limits the functions that could be executed during unpickling. Arbitrary objects will no longer be allowed to be loaded via this mode unless they are explicitly allowlisted by the user via `torch.serialization.add_safe_globals`. We recommend you start setting `weights_only=True` for any use case where you don't have full control of the loaded file. Please open an issue on GitHub for any issues related to this experimental feature.\n",
      "  sd1 = torch.load(model_path_1, map_location=\"cpu\")\n",
      "/tmp/ipykernel_704516/2712004162.py:10: FutureWarning: You are using `torch.load` with `weights_only=False` (the current default value), which uses the default pickle module implicitly. It is possible to construct malicious pickle data which will execute arbitrary code during unpickling (See https://github.com/pytorch/pytorch/blob/main/SECURITY.md#untrusted-models for more details). In a future release, the default value for `weights_only` will be flipped to `True`. This limits the functions that could be executed during unpickling. Arbitrary objects will no longer be allowed to be loaded via this mode unless they are explicitly allowlisted by the user via `torch.serialization.add_safe_globals`. We recommend you start setting `weights_only=True` for any use case where you don't have full control of the loaded file. Please open an issue on GitHub for any issues related to this experimental feature.\n",
      "  sd2 = torch.load(model_path_2, map_location=\"cpu\")\n"
     ]
    },
    {
     "name": "stdout",
     "output_type": "stream",
     "text": [
      "                                 Parameter Name     Status\n",
      "0                                  conv_in.bias       Same\n",
      "1                                conv_in.weight       Same\n",
      "2                            conv_norm_out.bias       Same\n",
      "3                          conv_norm_out.weight       Same\n",
      "4                                 conv_out.bias       Same\n",
      "..                                          ...        ...\n",
      "681          up_blocks.3.resnets.2.norm1.weight  Different\n",
      "682            up_blocks.3.resnets.2.norm2.bias  Different\n",
      "683          up_blocks.3.resnets.2.norm2.weight  Different\n",
      "684    up_blocks.3.resnets.2.time_emb_proj.bias  Different\n",
      "685  up_blocks.3.resnets.2.time_emb_proj.weight  Different\n",
      "\n",
      "[686 rows x 2 columns]\n"
     ]
    }
   ],
   "source": [
    "import torch\n",
    "import pandas as pd\n",
    "\n",
    "# 修改为你实际的模型路径\n",
    "model_path_1 = \"/data/home/yekai/github/DiffAdvPerturbationBench/multi-dreambooth/train_outputs/SimAC_SD21_VGGFace2_10ids_r8_cleanordirty/2000/unet/diffusion_pytorch_model.bin\"\n",
    "model_path_2 = \"/data/home/yekai/github/DiffAdvPerturbationBench/SD/stable-diffusion-2-1-base/unet/diffusion_pytorch_model.bin\"\n",
    "\n",
    "# 加载权重\n",
    "sd1 = torch.load(model_path_1, map_location=\"cpu\")\n",
    "sd2 = torch.load(model_path_2, map_location=\"cpu\")\n",
    "\n",
    "# 所有键\n",
    "all_keys = sorted(set(sd1.keys()) | set(sd2.keys()))\n",
    "\n",
    "results = []\n",
    "for key in all_keys:\n",
    "    if key not in sd1:\n",
    "        results.append((key, \"Missing in Model 1\"))\n",
    "    elif key not in sd2:\n",
    "        results.append((key, \"Missing in Model 2\"))\n",
    "    else:\n",
    "        # 比较张量是否完全一致\n",
    "        same = torch.equal(sd1[key], sd2[key])\n",
    "        results.append((key, \"Same\" if same else \"Different\"))\n",
    "\n",
    "# 输出为表格\n",
    "df = pd.DataFrame(results, columns=[\"Parameter Name\", \"Status\"])\n",
    "print(df)"
   ]
  },
  {
   "cell_type": "code",
   "execution_count": 2,
   "id": "c7dd27fa",
   "metadata": {},
   "outputs": [],
   "source": [
    "df.to_csv(\"unet_diff_report.csv\", index=False)"
   ]
  }
 ],
 "metadata": {
  "kernelspec": {
   "display_name": "Metacloakp",
   "language": "python",
   "name": "python3"
  },
  "language_info": {
   "codemirror_mode": {
    "name": "ipython",
    "version": 3
   },
   "file_extension": ".py",
   "mimetype": "text/x-python",
   "name": "python",
   "nbconvert_exporter": "python",
   "pygments_lexer": "ipython3",
   "version": "3.10.16"
  }
 },
 "nbformat": 4,
 "nbformat_minor": 5
}
