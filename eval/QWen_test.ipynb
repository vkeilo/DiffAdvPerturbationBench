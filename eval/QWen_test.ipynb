{
 "cells": [
  {
   "cell_type": "code",
   "execution_count": 36,
   "id": "9e17bea1",
   "metadata": {},
   "outputs": [
    {
     "ename": "FileNotFoundError",
     "evalue": "[Errno 2] No such file or directory: '/data/home/yekai/github/DiffAdvPerturbationBench/datasets/VGGFace2-clean/4/set_B/028353_01.png'",
     "output_type": "error",
     "traceback": [
      "\u001b[0;31m---------------------------------------------------------------------------\u001b[0m",
      "\u001b[0;31mFileNotFoundError\u001b[0m                         Traceback (most recent call last)",
      "Cell \u001b[0;32mIn[36], line 20\u001b[0m\n\u001b[1;32m     12\u001b[0m client \u001b[38;5;241m=\u001b[39m OpenAI(\n\u001b[1;32m     13\u001b[0m     \u001b[38;5;66;03m# 若没有配置环境变量，请用百炼API Key将下行替换为：api_key=\"sk-xxx\",\u001b[39;00m\n\u001b[1;32m     14\u001b[0m     \u001b[38;5;66;03m# api_key=os.getenv(\"DASHSCOPE_API_KEY\"),\u001b[39;00m\n\u001b[1;32m     15\u001b[0m     api_key\u001b[38;5;241m=\u001b[39m\u001b[38;5;124m\"\u001b[39m\u001b[38;5;124msk-003010ca5dd24e6a9f68af54420733a0\u001b[39m\u001b[38;5;124m\"\u001b[39m,\n\u001b[1;32m     16\u001b[0m     base_url\u001b[38;5;241m=\u001b[39m\u001b[38;5;124m\"\u001b[39m\u001b[38;5;124mhttps://dashscope.aliyuncs.com/compatible-mode/v1\u001b[39m\u001b[38;5;124m\"\u001b[39m,\n\u001b[1;32m     17\u001b[0m )\n\u001b[1;32m     19\u001b[0m \u001b[38;5;66;03m# base64_image = encode_image(\"/data/home/yekai/github/DiffAdvPerturbationBench/datasets/wikiart-data/23/set_B/0005.png\")\u001b[39;00m\n\u001b[0;32m---> 20\u001b[0m base64_image \u001b[38;5;241m=\u001b[39m \u001b[43mencode_image\u001b[49m\u001b[43m(\u001b[49m\u001b[38;5;124;43m\"\u001b[39;49m\u001b[38;5;124;43m/data/home/yekai/github/DiffAdvPerturbationBench/datasets/VGGFace2-clean/4/set_B/028353_01.png\u001b[39;49m\u001b[38;5;124;43m\"\u001b[39;49m\u001b[43m)\u001b[49m\n\u001b[1;32m     22\u001b[0m prompt_text \u001b[38;5;241m=\u001b[39m \u001b[38;5;28;01mNone\u001b[39;00m\n\u001b[1;32m     23\u001b[0m \u001b[38;5;28;01mwith\u001b[39;00m \u001b[38;5;28mopen\u001b[39m(\u001b[38;5;124mf\u001b[39m\u001b[38;5;124m'\u001b[39m\u001b[38;5;124mprompts/\u001b[39m\u001b[38;5;132;01m{\u001b[39;00mtype_name\u001b[38;5;132;01m}\u001b[39;00m\u001b[38;5;124m.txt\u001b[39m\u001b[38;5;124m'\u001b[39m, \u001b[38;5;124m'\u001b[39m\u001b[38;5;124mr\u001b[39m\u001b[38;5;124m'\u001b[39m, encoding\u001b[38;5;241m=\u001b[39m\u001b[38;5;124m'\u001b[39m\u001b[38;5;124mutf-8\u001b[39m\u001b[38;5;124m'\u001b[39m) \u001b[38;5;28;01mas\u001b[39;00m f:\n",
      "Cell \u001b[0;32mIn[36], line 9\u001b[0m, in \u001b[0;36mencode_image\u001b[0;34m(image_path)\u001b[0m\n\u001b[1;32m      8\u001b[0m \u001b[38;5;28;01mdef\u001b[39;00m \u001b[38;5;21mencode_image\u001b[39m(image_path):\n\u001b[0;32m----> 9\u001b[0m     \u001b[38;5;28;01mwith\u001b[39;00m \u001b[38;5;28;43mopen\u001b[39;49m\u001b[43m(\u001b[49m\u001b[43mimage_path\u001b[49m\u001b[43m,\u001b[49m\u001b[43m \u001b[49m\u001b[38;5;124;43m\"\u001b[39;49m\u001b[38;5;124;43mrb\u001b[39;49m\u001b[38;5;124;43m\"\u001b[39;49m\u001b[43m)\u001b[49m \u001b[38;5;28;01mas\u001b[39;00m image_file:\n\u001b[1;32m     10\u001b[0m         \u001b[38;5;28;01mreturn\u001b[39;00m base64\u001b[38;5;241m.\u001b[39mb64encode(image_file\u001b[38;5;241m.\u001b[39mread())\u001b[38;5;241m.\u001b[39mdecode(\u001b[38;5;124m\"\u001b[39m\u001b[38;5;124mutf-8\u001b[39m\u001b[38;5;124m\"\u001b[39m)\n",
      "File \u001b[0;32m~/conda_envs/Metacloakp/lib/python3.10/site-packages/IPython/core/interactiveshell.py:324\u001b[0m, in \u001b[0;36m_modified_open\u001b[0;34m(file, *args, **kwargs)\u001b[0m\n\u001b[1;32m    317\u001b[0m \u001b[38;5;28;01mif\u001b[39;00m file \u001b[38;5;129;01min\u001b[39;00m {\u001b[38;5;241m0\u001b[39m, \u001b[38;5;241m1\u001b[39m, \u001b[38;5;241m2\u001b[39m}:\n\u001b[1;32m    318\u001b[0m     \u001b[38;5;28;01mraise\u001b[39;00m \u001b[38;5;167;01mValueError\u001b[39;00m(\n\u001b[1;32m    319\u001b[0m         \u001b[38;5;124mf\u001b[39m\u001b[38;5;124m\"\u001b[39m\u001b[38;5;124mIPython won\u001b[39m\u001b[38;5;124m'\u001b[39m\u001b[38;5;124mt let you open fd=\u001b[39m\u001b[38;5;132;01m{\u001b[39;00mfile\u001b[38;5;132;01m}\u001b[39;00m\u001b[38;5;124m by default \u001b[39m\u001b[38;5;124m\"\u001b[39m\n\u001b[1;32m    320\u001b[0m         \u001b[38;5;124m\"\u001b[39m\u001b[38;5;124mas it is likely to crash IPython. If you know what you are doing, \u001b[39m\u001b[38;5;124m\"\u001b[39m\n\u001b[1;32m    321\u001b[0m         \u001b[38;5;124m\"\u001b[39m\u001b[38;5;124myou can use builtins\u001b[39m\u001b[38;5;124m'\u001b[39m\u001b[38;5;124m open.\u001b[39m\u001b[38;5;124m\"\u001b[39m\n\u001b[1;32m    322\u001b[0m     )\n\u001b[0;32m--> 324\u001b[0m \u001b[38;5;28;01mreturn\u001b[39;00m \u001b[43mio_open\u001b[49m\u001b[43m(\u001b[49m\u001b[43mfile\u001b[49m\u001b[43m,\u001b[49m\u001b[43m \u001b[49m\u001b[38;5;241;43m*\u001b[39;49m\u001b[43margs\u001b[49m\u001b[43m,\u001b[49m\u001b[43m \u001b[49m\u001b[38;5;241;43m*\u001b[39;49m\u001b[38;5;241;43m*\u001b[39;49m\u001b[43mkwargs\u001b[49m\u001b[43m)\u001b[49m\n",
      "\u001b[0;31mFileNotFoundError\u001b[0m: [Errno 2] No such file or directory: '/data/home/yekai/github/DiffAdvPerturbationBench/datasets/VGGFace2-clean/4/set_B/028353_01.png'"
     ]
    }
   ],
   "source": [
    "import os\n",
    "from openai import OpenAI\n",
    "import base64\n",
    "\n",
    "\n",
    "type_name = \"face\"\n",
    "#  base 64 编码格式\n",
    "def encode_image(image_path):\n",
    "    with open(image_path, \"rb\") as image_file:\n",
    "        return base64.b64encode(image_file.read()).decode(\"utf-8\")\n",
    "\n",
    "client = OpenAI(\n",
    "    # 若没有配置环境变量，请用百炼API Key将下行替换为：api_key=\"sk-xxx\",\n",
    "    # api_key=os.getenv(\"DASHSCOPE_API_KEY\"),\n",
    "    api_key=\"sk-003010ca5dd24e6a9f68af54420733a0\",\n",
    "    base_url=\"https://dashscope.aliyuncs.com/compatible-mode/v1\",\n",
    ")\n",
    "\n",
    "# base64_image = encode_image(\"/data/home/yekai/github/DiffAdvPerturbationBench/datasets/wikiart-data/23/set_B/0005.png\")\n",
    "base64_image = encode_image(\"/data/home/yekai/github/DiffAdvPerturbationBench/datasets/VGGFace2-clean/4/set_B/028353_01.png\")\n",
    "\n",
    "prompt_text = None\n",
    "with open(f'prompts/{type_name}.txt', 'r', encoding='utf-8') as f:\n",
    "    prompt_text = f.read()\n",
    "\n",
    "completion = client.chat.completions.create(\n",
    "    model=\"qwen-vl-plus\",  # 此处以qwen-vl-plus为例，可按需更换模型名称。模型列表：https://help.aliyun.com/zh/model-studio/getting-started/models\n",
    "    messages=[{\"role\": \"user\",\"content\": [\n",
    "            {\"type\": \"text\",\"text\": prompt_text},\n",
    "            {\"type\": \"image_url\",\n",
    "             \"image_url\": {\"url\": f\"data:image/png;base64,{base64_image}\"}, }\n",
    "            ]}]\n",
    "    )\n",
    "key_features = eval(completion.choices[0].message.content)"
   ]
  },
  {
   "cell_type": "code",
   "execution_count": 31,
   "id": "4f974815",
   "metadata": {},
   "outputs": [
    {
     "data": {
      "text/plain": [
       "['1:Creamy smooth skin tone',\n",
       " '2:Elongated eye socket depth',\n",
       " '3:Fine straight eyebrow arches',\n",
       " '4:Narrow nostril width ratio',\n",
       " '5:Mild double chin dimple',\n",
       " '6:Tapering point ear lobule',\n",
       " '7:Dome-like high forehead ridge',\n",
       " '8:Lipstick scar below lower lip',\n",
       " '9:Piercing through left eyebrow brow bone',\n",
       " '10:Bright blue irises.']"
      ]
     },
     "execution_count": 31,
     "metadata": {},
     "output_type": "execute_result"
    }
   ],
   "source": [
    "key_features"
   ]
  },
  {
   "cell_type": "code",
   "execution_count": 33,
   "id": "053b4f71",
   "metadata": {},
   "outputs": [
    {
     "data": {
      "text/plain": [
       "['1:Cropped hair exposing temple lines',\n",
       " '2:Narrow eye slits between brows',\n",
       " '3:Mild double chin dimple',\n",
       " '4:Fine stubble pattern around lips',\n",
       " '5:Elongated earlobes behind ears',\n",
       " '6:Distant mole below left eyebrow',\n",
       " '7:Tapering nose towards tip',\n",
       " '8:Pursed lower lip curve',\n",
       " '9:Broad base of nostrils',\n",
       " '10:Lobule position at bottom earlobe']"
      ]
     },
     "execution_count": 33,
     "metadata": {},
     "output_type": "execute_result"
    }
   ],
   "source": [
    "key_features"
   ]
  },
  {
   "cell_type": "code",
   "execution_count": 35,
   "id": "3672d5e1",
   "metadata": {},
   "outputs": [
    {
     "data": {
      "text/plain": [
       "['1:Messy slicked-back hair style',\n",
       " '2:Few prominent wrinkles around brow area',\n",
       " '3:Narrow nostrils opening slightly upwards',\n",
       " '4:Elongated eye socket depth below lid',\n",
       " '5:Dense stubble growth pattern',\n",
       " '6:Piercing earlobe placement high up',\n",
       " '7:Broad base of nose tapering sharply upward',\n",
       " '8:Lips thinning at corners but full elsewhere',\n",
       " '9:Circular dimple under lower lip',\n",
       " '10:Tiny mole beside left eyebrow arch']"
      ]
     },
     "execution_count": 35,
     "metadata": {},
     "output_type": "execute_result"
    }
   ],
   "source": [
    "key_features"
   ]
  },
  {
   "cell_type": "code",
   "execution_count": 37,
   "id": "692ca5b9",
   "metadata": {},
   "outputs": [
    {
     "data": {
      "text/plain": [
       "['1:Messy slicked-back hair style',\n",
       " '2:Few prominent wrinkles around brow area',\n",
       " '3:Narrow nostrils opening slightly upwards',\n",
       " '4:Elongated eye socket depth below lid',\n",
       " '5:Dense stubble growth pattern',\n",
       " '6:Piercing earlobe placement high up',\n",
       " '7:Broad base of nose tapering sharply upward',\n",
       " '8:Lips thinning at corners but full elsewhere',\n",
       " '9:Circular dimple under lower lip',\n",
       " '10:Tiny mole beside left eyebrow arch']"
      ]
     },
     "execution_count": 37,
     "metadata": {},
     "output_type": "execute_result"
    }
   ],
   "source": [
    "key_features"
   ]
  },
  {
   "cell_type": "code",
   "execution_count": null,
   "id": "e109535b",
   "metadata": {},
   "outputs": [],
   "source": []
  }
 ],
 "metadata": {
  "kernelspec": {
   "display_name": "Metacloakp",
   "language": "python",
   "name": "python3"
  },
  "language_info": {
   "codemirror_mode": {
    "name": "ipython",
    "version": 3
   },
   "file_extension": ".py",
   "mimetype": "text/x-python",
   "name": "python",
   "nbconvert_exporter": "python",
   "pygments_lexer": "ipython3",
   "version": "3.10.16"
  }
 },
 "nbformat": 4,
 "nbformat_minor": 5
}
